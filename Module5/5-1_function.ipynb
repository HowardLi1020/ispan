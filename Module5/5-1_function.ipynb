{
 "cells": [
  {
   "cell_type": "code",
   "execution_count": 1,
   "metadata": {},
   "outputs": [
    {
     "name": "stdout",
     "output_type": "stream",
     "text": [
      "Hello\n"
     ]
    }
   ],
   "source": [
    "# 建立 function 1\n",
    "def say_hello():\n",
    "    print(\"Hello\")\n",
    "\n",
    "say_hello()\n"
   ]
  },
  {
   "cell_type": "code",
   "execution_count": 2,
   "metadata": {},
   "outputs": [],
   "source": [
    "# 建立 function 2 return值\n",
    "def get_name():\n",
    "    name = \"Howard\"\n",
    "    \n",
    "    return name"
   ]
  },
  {
   "cell_type": "code",
   "execution_count": 3,
   "metadata": {},
   "outputs": [
    {
     "name": "stdout",
     "output_type": "stream",
     "text": [
      "Howard\n"
     ]
    }
   ],
   "source": [
    "my_name = get_name()\n",
    "print(my_name)"
   ]
  },
  {
   "cell_type": "code",
   "execution_count": 11,
   "metadata": {},
   "outputs": [],
   "source": [
    "# 建立 function 3 帶參數\n",
    "def get_greeting1(greeting, name):\n",
    "    return f\"{greeting} {name}\"\n"
   ]
  },
  {
   "cell_type": "code",
   "execution_count": 12,
   "metadata": {},
   "outputs": [
    {
     "name": "stdout",
     "output_type": "stream",
     "text": [
      "Hi Howard\n"
     ]
    }
   ],
   "source": [
    "print(get_greeting1(\"Hi\", \"Howard\"))"
   ]
  },
  {
   "cell_type": "code",
   "execution_count": 15,
   "metadata": {},
   "outputs": [
    {
     "name": "stdout",
     "output_type": "stream",
     "text": [
      "HI LEE\n",
      "Hello ZHEN\n"
     ]
    }
   ],
   "source": [
    "# 建立 function 4 預設參數值\n",
    "def get_greeting2(greeting = \"Hello\", name = \"Howard\"):\n",
    "    return f\"{greeting} {name}\"\n",
    "\n",
    "print(get_greeting2(\"HI\", \"LEE\"))\n",
    "print(get_greeting2(name = \"ZHEN\"))\n"
   ]
  },
  {
   "cell_type": "markdown",
   "metadata": {},
   "source": [
    "-----"
   ]
  },
  {
   "cell_type": "code",
   "execution_count": 16,
   "metadata": {},
   "outputs": [
    {
     "name": "stdout",
     "output_type": "stream",
     "text": [
      "[1, 3, 5, 7, 9, 11, 13, 15, 17, 19, 21, 23, 25, 27, 29, 31, 33, 35, 37, 39, 41, 43, 45, 47, 49]\n"
     ]
    }
   ],
   "source": [
    "def remove_odd_num(nums):\n",
    "    nums_list = []\n",
    "    for num in nums:\n",
    "        if num % 2 != 0:\n",
    "            nums_list.append(num)\n",
    "\n",
    "    return nums_list\n",
    "\n",
    "result = remove_odd_num([ i for i in range(1, 51)])\n",
    "print(result)"
   ]
  }
 ],
 "metadata": {
  "kernelspec": {
   "display_name": "Python 3",
   "language": "python",
   "name": "python3"
  },
  "language_info": {
   "codemirror_mode": {
    "name": "ipython",
    "version": 3
   },
   "file_extension": ".py",
   "mimetype": "text/x-python",
   "name": "python",
   "nbconvert_exporter": "python",
   "pygments_lexer": "ipython3",
   "version": "3.12.3"
  }
 },
 "nbformat": 4,
 "nbformat_minor": 2
}

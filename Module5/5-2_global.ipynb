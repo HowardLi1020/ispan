{
 "cells": [
  {
   "cell_type": "code",
   "execution_count": 6,
   "metadata": {},
   "outputs": [
    {
     "name": "stdout",
     "output_type": "stream",
     "text": [
      "Bill\n",
      "Howard\n"
     ]
    }
   ],
   "source": [
    "# 全域變數 //在function外叫做全域變數\n",
    "name = \"Bill\"\n",
    "\n",
    "# 定義函式\n",
    "def get_name():\n",
    "    name = \"Howard\"\n",
    "    # print(name)\n",
    "    return name\n",
    "\n",
    "\n",
    "# 執行函式\n",
    "my_name = get_name()\n",
    "\n",
    "# 輸出 name\n",
    "\n",
    "print(name)\n",
    "print(my_name)\n"
   ]
  },
  {
   "cell_type": "markdown",
   "metadata": {},
   "source": [
    "##### 使用 global 讓函式存取全域變數的值"
   ]
  },
  {
   "cell_type": "code",
   "execution_count": 7,
   "metadata": {},
   "outputs": [
    {
     "name": "stdout",
     "output_type": "stream",
     "text": [
      "Howard\n",
      "Howard\n"
     ]
    }
   ],
   "source": [
    "# 全域變數\n",
    "name = \"Bill\"\n",
    "\n",
    "# 定義函式\n",
    "def get_name():\n",
    "    global name\n",
    "    name = \"Howard\"\n",
    "    return name\n",
    "\n",
    "# 執行函式\n",
    "my_name = get_name()\n",
    "\n",
    "\n",
    "# 輸出 name\n",
    "print(name)\n",
    "print(my_name)\n"
   ]
  },
  {
   "cell_type": "code",
   "execution_count": null,
   "metadata": {},
   "outputs": [],
   "source": [
    "success = False\n",
    "def do_something():\n",
    "    global success\n",
    "    print()"
   ]
  }
 ],
 "metadata": {
  "kernelspec": {
   "display_name": "Python 3",
   "language": "python",
   "name": "python3"
  },
  "language_info": {
   "codemirror_mode": {
    "name": "ipython",
    "version": 3
   },
   "file_extension": ".py",
   "mimetype": "text/x-python",
   "name": "python",
   "nbconvert_exporter": "python",
   "pygments_lexer": "ipython3",
   "version": "3.12.3"
  }
 },
 "nbformat": 4,
 "nbformat_minor": 2
}

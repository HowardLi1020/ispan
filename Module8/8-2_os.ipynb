{
 "cells": [
  {
   "cell_type": "code",
   "execution_count": 3,
   "metadata": {},
   "outputs": [
    {
     "name": "stdout",
     "output_type": "stream",
     "text": [
      "True\n",
      "檔案存在\n"
     ]
    }
   ],
   "source": [
    "# 匯入套件\n",
    "import os\n",
    "\n",
    "# 檔案路徑\n",
    "file_path = \"./c2.txt\"\n",
    "\n",
    "# 指定路徑的檔案存在\n",
    "print(os.path.exists(file_path))\n",
    "\n",
    "#指定檔案是否存在，不存在則建立\n",
    "if os.path.exists(file_path):\n",
    "    print(\"檔案存在\")\n",
    "    #檔案存在的話，刪除指定檔案\n",
    "    os.remove(file_path)\n",
    "else:\n",
    "    with open(file_path, \"w\") as f:\n",
    "        pass\n",
    "\n",
    "\n",
    "\n"
   ]
  },
  {
   "cell_type": "code",
   "execution_count": 4,
   "metadata": {},
   "outputs": [
    {
     "name": "stdout",
     "output_type": "stream",
     "text": [
      "['4-0_note.ipynb', '4-1-1_format.ipynb', '4-1-3_f-string.ipynb', '4-1_string.ipynb', '4-2_list.ipynb', '4-3_tuple.ipynb', '4-4-1_dict.ipynb', '4-4-2_dict_for.ipynb', '4-5_set.ipynb', '4-6_slicing.ipynb']\n"
     ]
    }
   ],
   "source": [
    "#os.listdir(<dir_path>)把資料夾檔案建成清單\n",
    "print(os.listdir(\"../Module4\"))"
   ]
  },
  {
   "cell_type": "code",
   "execution_count": null,
   "metadata": {},
   "outputs": [],
   "source": []
  }
 ],
 "metadata": {
  "kernelspec": {
   "display_name": "Python 3",
   "language": "python",
   "name": "python3"
  },
  "language_info": {
   "codemirror_mode": {
    "name": "ipython",
    "version": 3
   },
   "file_extension": ".py",
   "mimetype": "text/x-python",
   "name": "python",
   "nbconvert_exporter": "python",
   "pygments_lexer": "ipython3",
   "version": "3.12.3"
  }
 },
 "nbformat": 4,
 "nbformat_minor": 2
}

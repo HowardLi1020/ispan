{
 "cells": [
  {
   "cell_type": "markdown",
   "metadata": {},
   "source": [
    "##### 將 data.txt 的資料分類成另外三個檔案，分別為 cc.txt 、 css.txt 、 c.txt  "
   ]
  },
  {
   "cell_type": "code",
   "execution_count": 13,
   "metadata": {},
   "outputs": [
    {
     "name": "stdout",
     "output_type": "stream",
     "text": [
      "['abc0175', 'c']\n"
     ]
    }
   ],
   "source": [
    "import json\n",
    "\n",
    "with open(\"data.txt\", \"r\", encoding=\"utf-8\") as f:\n",
    "    data_list = f.readlines()\n",
    "str_without_n_list = [ data.strip(\"\\n\") for data in data_list ]\n",
    "# print(str_without_n_list)\n",
    "\n",
    "for i in str_without_n_list:\n",
    "    # print(i)\n",
    "    word = i.split(\".\")\n",
    "    #也可以用i[-2:] == \"cc\", i[-3:] == \"css\"\n",
    "    if word[-1] == \"cc\":\n",
    "        with open(\"cc.txt\", \"a\", encoding=\"utf-8\") as f:\n",
    "            f.write(i+\"\\n\")\n",
    "    elif word[-1] == \"c\":\n",
    "        with open(\"c.txt\", \"a\", encoding=\"utf-8\") as f:\n",
    "            f.write(i+\"\\n\")\n",
    "    else:\n",
    "        with open(\"css.txt\", \"a\", encoding=\"utf-8\") as f:\n",
    "            f.write(i+\"\\n\")\n"
   ]
  }
 ],
 "metadata": {
  "kernelspec": {
   "display_name": "Python 3",
   "language": "python",
   "name": "python3"
  },
  "language_info": {
   "codemirror_mode": {
    "name": "ipython",
    "version": 3
   },
   "file_extension": ".py",
   "mimetype": "text/x-python",
   "name": "python",
   "nbconvert_exporter": "python",
   "pygments_lexer": "ipython3",
   "version": "3.12.3"
  }
 },
 "nbformat": 4,
 "nbformat_minor": 2
}

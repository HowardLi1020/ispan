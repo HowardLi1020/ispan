{
 "cells": [
  {
   "cell_type": "markdown",
   "metadata": {},
   "source": [
    "### `json()` 套件"
   ]
  },
  {
   "cell_type": "markdown",
   "metadata": {},
   "source": [
    "|`json.dump(<obj>, <file>, [indent=<num>])`| `json.dumps(<obj>)` | `json.load(<file>)` | `json.loads(<str>)` |\n",
    "|:--:|:--:|:--:|:--:|\n",
    "|物件轉JSON並寫入文件|物件轉JSON字串|讀取JSON文件|將JSON字串轉成Python物件|"
   ]
  },
  {
   "cell_type": "code",
   "execution_count": 11,
   "metadata": {},
   "outputs": [],
   "source": [
    "import json\n",
    "# json.dumps(<obj>)\n",
    "list_1_to_100 = [ i for i in range(1, 101)]\n",
    "with open (\"./8-1_list.json\", \"w\") as f:\n",
    "    f.write(json.dumps(list_1_to_100))"
   ]
  },
  {
   "cell_type": "code",
   "execution_count": 12,
   "metadata": {},
   "outputs": [
    {
     "name": "stdout",
     "output_type": "stream",
     "text": [
      "[1, 2, 3, 4, 5, 6, 7, 8, 9, 10, 11, 12, 13, 14, 15, 16, 17, 18, 19, 20, 21, 22, 23, 24, 25, 26, 27, 28, 29, 30, 31, 32, 33, 34, 35, 36, 37, 38, 39, 40, 41, 42, 43, 44, 45, 46, 47, 48, 49, 50, 51, 52, 53, 54, 55, 56, 57, 58, 59, 60, 61, 62, 63, 64, 65, 66, 67, 68, 69, 70, 71, 72, 73, 74, 75, 76, 77, 78, 79, 80, 81, 82, 83, 84, 85, 86, 87, 88, 89, 90, 91, 92, 93, 94, 95, 96, 97, 98, 99, 100]\n",
      "<class 'list'>\n"
     ]
    }
   ],
   "source": [
    "# json.loads(<obj>)\n",
    "with open (\"8-1_list.json\", \"r\") as f :\n",
    "    data = f.read()\n",
    "    data_list = json.loads(data)\n",
    "    \n",
    "print(data_list)\n",
    "print(type(data_list))"
   ]
  },
  {
   "cell_type": "code",
   "execution_count": 14,
   "metadata": {},
   "outputs": [
    {
     "name": "stdout",
     "output_type": "stream",
     "text": [
      "[1, 2, 3, 4, 5, 6, 7, 8, 9, 10, 11, 12, 13, 14, 15, 16, 17, 18, 19, 20, 21, 22, 23, 24, 25, 26, 27, 28, 29, 30, 31, 32, 33, 34, 35, 36, 37, 38, 39, 40, 41, 42, 43, 44, 45, 46, 47, 48, 49, 50, 51, 52, 53, 54, 55, 56, 57, 58, 59, 60, 61, 62, 63, 64, 65, 66, 67, 68, 69, 70, 71, 72, 73, 74, 75, 76, 77, 78, 79, 80, 81, 82, 83, 84, 85, 86, 87, 88, 89, 90, 91, 92, 93, 94, 95, 96, 97, 98, 99, 100]\n",
      "<class 'list'>\n"
     ]
    }
   ],
   "source": [
    "# json.load(<obj>)\n",
    "with open (\"8-1_list.json\", \"r\") as f :\n",
    "    data_list = json.load(f)\n",
    "    \n",
    "print(data_list)\n",
    "print(type(data_list))"
   ]
  },
  {
   "cell_type": "code",
   "execution_count": 20,
   "metadata": {},
   "outputs": [
    {
     "name": "stdout",
     "output_type": "stream",
     "text": [
      "{'apple': {'amount': 10, 'price': 7, 'color': ['red', 'green']}, 'orange': {'amount': 5, 'price': 12, 'color': ['orange']}, 'tomato': {'amount': 15, 'price': 8, 'color': ['red']}}\n",
      "<class 'dict'>\n"
     ]
    }
   ],
   "source": [
    "#json.dump(<obj>, <file>, [indent=<num>])\n",
    "fruit_dict = {\n",
    "    \"apple\" : {\n",
    "        \"amount\" : 10,\n",
    "        \"price\" : 7,\n",
    "        \"color\" : [\"red\", \"green\"]\n",
    "    },\n",
    "    \"orange\" : {\n",
    "        \"amount\" : 5,\n",
    "        \"price\" : 12,\n",
    "        \"color\" : [\"orange\"]\n",
    "    },\n",
    "    \"tomato\" : {\n",
    "        \"amount\" : 15,\n",
    "        \"price\" : 8,\n",
    "        \"color\" : [\"red\"]\n",
    "    }\n",
    "}\n",
    "with open (\"8-1_list.json\", \"w\") as f :\n",
    "    json.dump(fruit_dict, f, indent=4)\n",
    "    \n",
    "print(fruit_dict)\n",
    "print(type(fruit_dict))"
   ]
  }
 ],
 "metadata": {
  "kernelspec": {
   "display_name": "Python 3",
   "language": "python",
   "name": "python3"
  },
  "language_info": {
   "codemirror_mode": {
    "name": "ipython",
    "version": 3
   },
   "file_extension": ".py",
   "mimetype": "text/x-python",
   "name": "python",
   "nbconvert_exporter": "python",
   "pygments_lexer": "ipython3",
   "version": "3.12.3"
  }
 },
 "nbformat": 4,
 "nbformat_minor": 2
}

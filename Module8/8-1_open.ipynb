{
 "cells": [
  {
   "cell_type": "markdown",
   "metadata": {},
   "source": [
    "##### `open()` 函式\n",
    "|`\"r\"`|`\"a\"`|`\"w\"`|`\"x\"`|`\"t\"`|`\"b\"`|\n",
    "|:--:|:--:|:--:|:--:|:--:|:--:|\n",
    "|read|append|write|create|text|binary|"
   ]
  },
  {
   "cell_type": "markdown",
   "metadata": {},
   "source": [
    "##### 讀取檔案 read( )"
   ]
  },
  {
   "cell_type": "code",
   "execution_count": 6,
   "metadata": {},
   "outputs": [
    {
     "name": "stdout",
     "output_type": "stream",
     "text": [
      "==================================================\n",
      "# 建立第一支 Python 程式\n",
      "\n",
      "# 宣告變數\n",
      "x = 10\n",
      "my_name = 'Howard'\n",
      "\n",
      "# 輸出變數\n",
      "''''''\n",
      "print(x)\n",
      "print(my_name)\n",
      "print(my_name)\n",
      "print(my_name)\n",
      "print(my_name)\n",
      "print(my_name)\n",
      "print(my_name)\n",
      "\n",
      "==================================================\n"
     ]
    }
   ],
   "source": [
    "# 印出 50 個 \"=\"\n",
    "print(\"=\"*50)\n",
    "\n",
    "# 讀取檔案內容 - 常用的寫法 (執行完畢會自動關閉檔案)\n",
    "# 利用with...as寫法代表 f = open(...)\n",
    "# 依序可以把file以及mode省略，但encoding必須指定，否則會代入別的\n",
    "with open(\"../Module2/2-1.py\", \"r\",  encoding=\"utf-8\") as f:\n",
    "    doc = f.read()\n",
    "    print(doc)\n",
    "\n",
    "# 印出 50 個 \"=\"\n",
    "print(\"=\"*50)\n",
    "\n",
    "\n"
   ]
  },
  {
   "cell_type": "code",
   "execution_count": 4,
   "metadata": {},
   "outputs": [
    {
     "name": "stdout",
     "output_type": "stream",
     "text": [
      "==================================================\n",
      "# 建立第一支 Python 程式\n",
      "\n",
      "# 宣告變數\n",
      "x = 10\n",
      "my_name = 'Howard'\n",
      "\n",
      "# 輸出變數\n",
      "''''''\n",
      "print(x)\n",
      "print(my_name)\n",
      "print(my_name)\n",
      "print(my_name)\n",
      "print(my_name)\n",
      "print(my_name)\n",
      "print(my_name)\n",
      "\n",
      "==================================================\n"
     ]
    }
   ],
   "source": [
    "# 印出 50 個 \"=\"\n",
    "print(\"=\"*50)\n",
    "\n",
    "# 讀取檔案內容 - 常用的寫法 (執行完畢會自動關閉檔案)\n",
    "# 利用with...as寫法代表 f = open(...)\n",
    "with open(file = \"../Module2/2-1.py\", mode=\"r\",  encoding=\"utf-8\") as f:\n",
    "    doc = f.read()\n",
    "    print(doc)\n",
    "\n",
    "# 印出 50 個 \"=\"\n",
    "print(\"=\"*50)\n",
    "\n",
    "\n"
   ]
  },
  {
   "cell_type": "code",
   "execution_count": 7,
   "metadata": {},
   "outputs": [
    {
     "name": "stdout",
     "output_type": "stream",
     "text": [
      "['# 建立第一支 Python 程式\\n', '\\n', '# 宣告變數\\n', 'x = 10\\n', \"my_name = 'Howard'\\n\", '\\n', '# 輸出變數\\n', \"''''''\\n\", 'print(x)\\n', 'print(my_name)\\n', 'print(my_name)\\n', 'print(my_name)\\n', 'print(my_name)\\n', 'print(my_name)\\n', 'print(my_name)\\n']\n"
     ]
    }
   ],
   "source": [
    "# 一行一行讀取\n",
    "with open(\"../Module2/2-1.py\", \"r\", encoding=\"utf-8\") as f:\n",
    "    data = f.readlines()\n",
    "    print(data)\n"
   ]
  },
  {
   "cell_type": "code",
   "execution_count": 17,
   "metadata": {},
   "outputs": [
    {
     "name": "stdout",
     "output_type": "stream",
     "text": [
      "['# 建立第一支 Python 程式\\n', '# 宣告變數\\n', 'x = 10\\n', \"my_name = 'Howard'\\n\", '# 輸出變數\\n', \"''''''\\n\", 'print(x)\\n', 'print(my_name)\\n', 'print(my_name)\\n', 'print(my_name)\\n', 'print(my_name)\\n', 'print(my_name)\\n', 'print(my_name)\\n']\n",
      "['# 建立第一支 Python 程式', '# 宣告變數', 'x = 10', \"my_name = 'Howard'\", '# 輸出變數', \"''''''\", 'print(x)', 'print(my_name)', 'print(my_name)', 'print(my_name)', 'print(my_name)', 'print(my_name)', 'print(my_name)']\n"
     ]
    }
   ],
   "source": [
    "# 資料處理 把\\n去除\n",
    "with open(\"../Module2/2-1.py\", \"r\", encoding=\"utf-8\") as f:\n",
    "    data_list = f.readlines()\n",
    "\n",
    "while \"\\n\" in data_list:\n",
    "    data_list.remove(\"\\n\")\n",
    "print(data_list)\n",
    "\n",
    "str_without_n_list = []\n",
    "for data in data_list:\n",
    "    str_without_n = data.strip(\"\\n\")\n",
    "    str_without_n_list.append(str_without_n)\n",
    "print(str_without_n_list)\n",
    "# 補充\n",
    "# str_without_n_list = [ data.strip(\"\\n\") for data in data_list ]\n",
    "# print(str_without_n_list)\n"
   ]
  },
  {
   "cell_type": "markdown",
   "metadata": {},
   "source": [
    "##### 寫入檔案 write( )"
   ]
  },
  {
   "cell_type": "code",
   "execution_count": 10,
   "metadata": {},
   "outputs": [],
   "source": [
    "# 文字內容\n",
    "text = '''\n",
    "傑出的人會努力規劃自己的人生，普通的人則是隨便命運怎麼安排   \n",
    "一個是充實、有目的的過每一天，一個是隨興的過一天算一天\n",
    "創業這條路 Michael E.Gerber\n",
    "'''\n",
    "\n",
    "# 寫入檔案\n",
    "with open(\"./8-1.txt\", \"w\", encoding=\"utf-8\") as f:\n",
    "    f.write(text)\n",
    "\n",
    "\n",
    "\n"
   ]
  },
  {
   "cell_type": "code",
   "execution_count": 13,
   "metadata": {},
   "outputs": [],
   "source": [
    "# 寫入資料到最後一行 (附加文字在檔案內容最後一行)\n",
    "\n",
    "# People say that success just happens to you. It doesn't!\n",
    "with open(\"./8-1.txt\", \"a\", encoding=\"utf-8\") as f:\n",
    "    f.write(\"People say that success just happens to you. It doesn't!\"+\"\\n\")\n",
    "    #加上換行才不會黏在一起\n"
   ]
  },
  {
   "cell_type": "code",
   "execution_count": 15,
   "metadata": {},
   "outputs": [
    {
     "name": "stdout",
     "output_type": "stream",
     "text": [
      "[1, 2, 3, 4, 5, 6, 7, 8, 9, 10, 11, 12, 13, 14, 15, 16, 17, 18, 19, 20, 21, 22, 23, 24, 25, 26, 27, 28, 29, 30, 31, 32, 33, 34, 35, 36, 37, 38, 39, 40, 41, 42, 43, 44, 45, 46, 47, 48, 49, 50, 51, 52, 53, 54, 55, 56, 57, 58, 59, 60, 61, 62, 63, 64, 65, 66, 67, 68, 69, 70, 71, 72, 73, 74, 75, 76, 77, 78, 79, 80, 81, 82, 83, 84, 85, 86, 87, 88, 89, 90, 91, 92, 93, 94, 95, 96, 97, 98, 99, 100]\n"
     ]
    }
   ],
   "source": [
    "#建立一個 1 - 100 的list\n",
    "list_1_to_100_list = [ i for i in range(1, 101)]\n",
    "print(list_1_to_100_list)\n",
    "\n",
    "with open(\"./8-1.txt\", \"w\", encoding=\"utf-8\") as f:\n",
    "    f.write()"
   ]
  }
 ],
 "metadata": {
  "kernelspec": {
   "display_name": "Python 3",
   "language": "python",
   "name": "python3"
  },
  "language_info": {
   "codemirror_mode": {
    "name": "ipython",
    "version": 3
   },
   "file_extension": ".py",
   "mimetype": "text/x-python",
   "name": "python",
   "nbconvert_exporter": "python",
   "pygments_lexer": "ipython3",
   "version": "3.12.3"
  }
 },
 "nbformat": 4,
 "nbformat_minor": 2
}

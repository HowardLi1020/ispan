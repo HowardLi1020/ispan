{
 "cells": [
  {
   "cell_type": "markdown",
   "metadata": {},
   "source": [
    "百貨公司周年慶 消費金額超過 2000 要折 200  \n",
    "\n",
    "請撰寫一支程式  \n",
    "計算客戶消費的結帳金額"
   ]
  },
  {
   "cell_type": "code",
   "execution_count": 1,
   "metadata": {},
   "outputs": [
    {
     "name": "stdout",
     "output_type": "stream",
     "text": [
      "1800\n"
     ]
    }
   ],
   "source": [
    "cost = 2000\n",
    "discount = 200\n",
    "if cost >= 2000:\n",
    "    print(cost-discount)"
   ]
  },
  {
   "cell_type": "code",
   "execution_count": 1,
   "metadata": {},
   "outputs": [
    {
     "name": "stdout",
     "output_type": "stream",
     "text": [
      "1800\n"
     ]
    }
   ],
   "source": [
    "cost = 2000\n",
    "discount = 200\n",
    "if cost//2000 >= 0:\n",
    "    print(cost-discount*(cost//2000))"
   ]
  },
  {
   "cell_type": "code",
   "execution_count": 4,
   "metadata": {},
   "outputs": [
    {
     "name": "stdout",
     "output_type": "stream",
     "text": [
      "1000\n"
     ]
    }
   ],
   "source": [
    "def discnt (cost, discount = 200):\n",
    "    \n",
    "    if cost//2000 >= 0:\n",
    "        return (cost-discount*(cost//2000))\n",
    "    else:\n",
    "        return cost\n",
    "\n",
    "print(discnt(1000))"
   ]
  },
  {
   "cell_type": "code",
   "execution_count": 23,
   "metadata": {},
   "outputs": [],
   "source": [
    "nums = [3, 2, 4]\n",
    "target = 6\n",
    "target_list = []\n",
    "for i in range(0, len(nums)):\n",
    "    for j in range(i+1, len(nums)):\n",
    "        if nums[i]+nums[j] == target:\n",
    "            target_list = [i, j]\n"
   ]
  },
  {
   "cell_type": "code",
   "execution_count": 33,
   "metadata": {},
   "outputs": [
    {
     "name": "stdout",
     "output_type": "stream",
     "text": [
      "4\n"
     ]
    }
   ],
   "source": [
    "nums1 = [1, 2, 3, 1, 1, 3]\n",
    "cnt = 0\n",
    "# output = 4\n",
    "for i in range(0, len(nums1)):\n",
    "    for j in range(i+1, len(nums1)):\n",
    "        if nums1[i] == nums1[j]:\n",
    "            cnt += 1\n",
    "print(cnt)"
   ]
  },
  {
   "cell_type": "code",
   "execution_count": 1,
   "metadata": {},
   "outputs": [
    {
     "name": "stdout",
     "output_type": "stream",
     "text": [
      "True\n"
     ]
    }
   ],
   "source": [
    "x = 121\n",
    "y = str(x)\n",
    "newY = str(y[::-1])\n",
    "print(y == newY)"
   ]
  },
  {
   "cell_type": "code",
   "execution_count": 56,
   "metadata": {},
   "outputs": [
    {
     "name": "stdout",
     "output_type": "stream",
     "text": [
      "['', '', '', 'fly', 'me', '', '', 'to', '', '', 'the', 'moon', '', '']\n",
      "0\n",
      "0\n",
      "0\n",
      "3\n",
      "2\n",
      "2\n",
      "2\n",
      "2\n",
      "2\n",
      "2\n",
      "3\n",
      "4\n",
      "4\n",
      "4\n"
     ]
    }
   ],
   "source": [
    "s = \"   fly me   to   the moon  \"\n",
    "s_list = s.split(\" \")\n",
    "print(s_list)\n",
    "last_word = 0\n",
    "for i in range(len(s_list)):\n",
    "    if s_list[i] != \"\":\n",
    "        last_word = len(s_list[i])\n",
    "    print(last_word)\n",
    "\n"
   ]
  }
 ],
 "metadata": {
  "kernelspec": {
   "display_name": "Python 3",
   "language": "python",
   "name": "python3"
  },
  "language_info": {
   "codemirror_mode": {
    "name": "ipython",
    "version": 3
   },
   "file_extension": ".py",
   "mimetype": "text/x-python",
   "name": "python",
   "nbconvert_exporter": "python",
   "pygments_lexer": "ipython3",
   "version": "3.12.3"
  }
 },
 "nbformat": 4,
 "nbformat_minor": 2
}

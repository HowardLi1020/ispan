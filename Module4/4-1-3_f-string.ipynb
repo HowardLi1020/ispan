{
 "cells": [
  {
   "cell_type": "code",
   "execution_count": 4,
   "metadata": {},
   "outputs": [
    {
     "name": "stdout",
     "output_type": "stream",
     "text": [
      "name: Jarvis, age: 18\n"
     ]
    }
   ],
   "source": [
    "# f-string (又稱作 formatted string literals, version >= 3.6)\n",
    "name = \"Jarvis\"\n",
    "age = 18\n",
    "print(f\"name: {name}, age: {age}\")\n"
   ]
  },
  {
   "cell_type": "code",
   "execution_count": 6,
   "metadata": {},
   "outputs": [
    {
     "name": "stdout",
     "output_type": "stream",
     "text": [
      "name: [Jarvis    , age: [        18]\n"
     ]
    }
   ],
   "source": [
    "# 靠左對齊、靠右對齊\n",
    "result = f\"name: [{name:<10}, age: [{age:>10}]\"\n",
    "print(result)\n"
   ]
  },
  {
   "cell_type": "code",
   "execution_count": 7,
   "metadata": {},
   "outputs": [
    {
     "name": "stdout",
     "output_type": "stream",
     "text": [
      "name: [JarvisXXXX, age: [XXXXXXXX18]\n"
     ]
    }
   ],
   "source": [
    "# 靠左對齊、靠右對齊，字數不足，補「X」\n",
    "# (沒寫補什麼，預設空格)\n",
    "result = f\"name: [{name:X<10}, age: [{age:X>10}]\"\n",
    "print(result)\n"
   ]
  },
  {
   "cell_type": "code",
   "execution_count": 8,
   "metadata": {},
   "outputs": [
    {
     "name": "stdout",
     "output_type": "stream",
     "text": [
      "name: [  Jarvis  , age: [    18    ]\n"
     ]
    }
   ],
   "source": [
    "# 置中對齊\n",
    "result = f\"name: [{name:^10}, age: [{age:^10}]\"\n",
    "print(result)\n"
   ]
  },
  {
   "cell_type": "code",
   "execution_count": 10,
   "metadata": {},
   "outputs": [
    {
     "name": "stdout",
     "output_type": "stream",
     "text": [
      "name: [    Ja    ], age: [ 18 ]\n"
     ]
    }
   ],
   "source": [
    "# 指定文字長度上限 (只有文字，才在格式化字串中加入「.」來限定字串長度)\n",
    "result = f\"name: [{name:^10.2}], age: [{age:^4}]\"\n",
    "print(result)\n",
    "\n"
   ]
  },
  {
   "cell_type": "code",
   "execution_count": 13,
   "metadata": {},
   "outputs": [
    {
     "name": "stdout",
     "output_type": "stream",
     "text": [
      "3.14\n"
     ]
    }
   ],
   "source": [
    "f_num = 3.141567\n",
    "result = f\"{f_num:.2f}\"\n",
    "print(result)"
   ]
  }
 ],
 "metadata": {
  "kernelspec": {
   "display_name": "Python 3",
   "language": "python",
   "name": "python3"
  },
  "language_info": {
   "codemirror_mode": {
    "name": "ipython",
    "version": 3
   },
   "file_extension": ".py",
   "mimetype": "text/x-python",
   "name": "python",
   "nbconvert_exporter": "python",
   "pygments_lexer": "ipython3",
   "version": "3.12.3"
  }
 },
 "nbformat": 4,
 "nbformat_minor": 2
}

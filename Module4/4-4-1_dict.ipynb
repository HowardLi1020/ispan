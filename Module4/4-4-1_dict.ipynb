{
 "cells": [
  {
   "cell_type": "code",
   "execution_count": 8,
   "metadata": {},
   "outputs": [
    {
     "name": "stdout",
     "output_type": "stream",
     "text": [
      "{'apple': 100, 'orange': 20, 'tomato': 50}\n"
     ]
    }
   ],
   "source": [
    "# 初始化 dict\n",
    "fruit_price_dict = {\"apple\": 100, \"orange\": 20, \"tomato\": 50}\n",
    "print(fruit_price_dict)\n"
   ]
  },
  {
   "cell_type": "code",
   "execution_count": 14,
   "metadata": {},
   "outputs": [
    {
     "name": "stdout",
     "output_type": "stream",
     "text": [
      "{'apple': 100, 'orange': 20, 'tomato': 50}\n"
     ]
    }
   ],
   "source": [
    "#建議寫法\n",
    "fruit_price_dict2 = {\n",
    "    \"apple\": fruit_price_dict[\"apple\"],\n",
    "    \"orange\" : fruit_price_dict[\"orange\"],\n",
    "    \"tomato\" : fruit_price_dict[\"tomato\"]\n",
    "}\n",
    "print(fruit_price_dict)"
   ]
  },
  {
   "cell_type": "code",
   "execution_count": 22,
   "metadata": {},
   "outputs": [],
   "source": [
    "person_dict = {\n",
    "    \"name\": \"Howard\",\n",
    "    \"age\": 24,\n",
    "    \"info\": {\n",
    "        \"nickname\" : \"lee\",\n",
    "        \"birth\" : \"10/20\",\n",
    "        \"phone\" : [\"0921312321\", \"02-22342345\"]\n",
    "    }\n",
    "}"
   ]
  },
  {
   "cell_type": "code",
   "execution_count": 23,
   "metadata": {},
   "outputs": [
    {
     "name": "stdout",
     "output_type": "stream",
     "text": [
      "{'nickname': 'lee', 'birth': '10/20', 'phone': ['0921312321', '02-22342345']}\n",
      "['0921312321', '02-22342345']\n"
     ]
    }
   ],
   "source": [
    "#取得nickname\n",
    "print(person_dict[\"info\"])\n",
    "print(person_dict[\"info\"][\"phone\"])"
   ]
  },
  {
   "cell_type": "code",
   "execution_count": 24,
   "metadata": {},
   "outputs": [
    {
     "name": "stdout",
     "output_type": "stream",
     "text": [
      "['0921312321', '02-22342345']\n",
      "phoneNUM1: 0921312321\n",
      "phoneNUM2: 02-22342345\n"
     ]
    }
   ],
   "source": [
    "#取得所有phone\n",
    "cnt = 0\n",
    "print(person_dict[\"info\"][\"phone\"])\n",
    "for i in person_dict[\"info\"][\"phone\"]:\n",
    "    cnt += 1\n",
    "    print(f\"phoneNUM{cnt}: {i}\")"
   ]
  },
  {
   "cell_type": "code",
   "execution_count": 9,
   "metadata": {},
   "outputs": [
    {
     "name": "stdout",
     "output_type": "stream",
     "text": [
      "100 元\n"
     ]
    }
   ],
   "source": [
    "# 印出 蘋果的價格\n",
    "print(f\"{fruit_price_dict[\"apple\"]} 元\")\n"
   ]
  },
  {
   "cell_type": "code",
   "execution_count": 10,
   "metadata": {},
   "outputs": [
    {
     "name": "stdout",
     "output_type": "stream",
     "text": [
      "{'apple': 100, 'orange': 50, 'tomato': 50}\n"
     ]
    }
   ],
   "source": [
    "# 修改 橘子的價格\n",
    "fruit_price_dict[\"orange\"] = 50\n",
    "print(fruit_price_dict)\n"
   ]
  },
  {
   "cell_type": "code",
   "execution_count": 11,
   "metadata": {},
   "outputs": [
    {
     "name": "stdout",
     "output_type": "stream",
     "text": [
      "{'apple': 100, 'orange': 50}\n"
     ]
    }
   ],
   "source": [
    "# 刪除 番茄\n",
    "del fruit_price_dict[\"tomato\"]\n",
    "print(fruit_price_dict)\n"
   ]
  },
  {
   "cell_type": "code",
   "execution_count": null,
   "metadata": {},
   "outputs": [],
   "source": [
    "# 建立一個 value 含有 dict 的 dict\n",
    "\n"
   ]
  },
  {
   "cell_type": "code",
   "execution_count": null,
   "metadata": {},
   "outputs": [],
   "source": [
    "# 取得 nickname\n",
    "\n"
   ]
  },
  {
   "cell_type": "code",
   "execution_count": null,
   "metadata": {},
   "outputs": [],
   "source": [
    "# 取得所有 phone_number\n",
    "\n"
   ]
  },
  {
   "cell_type": "markdown",
   "metadata": {},
   "source": [
    "---"
   ]
  },
  {
   "cell_type": "code",
   "execution_count": 29,
   "metadata": {},
   "outputs": [
    {
     "name": "stdout",
     "output_type": "stream",
     "text": [
      "{'apple': {'amount': 10, 'price': 7, 'color': ['red', 'green']}, 'orange': {'amount': 5, 'price': 12, 'color': ['orange']}, 'tomato': {'amount': 15, 'price': 8, 'color': ['red']}}\n"
     ]
    }
   ],
   "source": [
    "'''\n",
    "改寫 fruit_dict 每個水果需要 price, quantity/amount, color\n",
    "apple 有 綠色 和 紅色\n",
    "orange 有 橘色\n",
    "tomato 有 紅色\n",
    "'''\n",
    "fruit_dict = {\n",
    "    \"apple\" : {\n",
    "        \"amount\" : 10,\n",
    "        \"price\" : 7,\n",
    "        \"color\" : [\"red\", \"green\"]\n",
    "    },\n",
    "    \"orange\" : {\n",
    "        \"amount\" : 5,\n",
    "        \"price\" : 12,\n",
    "        \"color\" : [\"orange\"]\n",
    "    },\n",
    "    \"tomato\" : {\n",
    "        \"amount\" : 15,\n",
    "        \"price\" : 8,\n",
    "        \"color\" : [\"red\"]\n",
    "    }\n",
    "}\n",
    "print(fruit_dict)\n",
    "\n"
   ]
  },
  {
   "cell_type": "markdown",
   "metadata": {},
   "source": [
    "##### dict 的合併"
   ]
  },
  {
   "cell_type": "code",
   "execution_count": 37,
   "metadata": {},
   "outputs": [
    {
     "name": "stdout",
     "output_type": "stream",
     "text": [
      "{'apple': {'amount': 10,\n",
      "           'color': ['red', 'green', 'yellow', 'yellow', 'yellow'],\n",
      "           'price': 7},\n",
      " 'orange': {'amount': 5, 'color': ['orange'], 'price': 12},\n",
      " 'tomato': {'amount': 15,\n",
      "            'color': ['red', 'green', 'green', 'green'],\n",
      "            'price': 8}}\n"
     ]
    }
   ],
   "source": [
    "# dict 的合併\n",
    "fruit_price_dict.update(fruit_dict)\n",
    "pprint(fruit_price_dict)"
   ]
  },
  {
   "cell_type": "markdown",
   "metadata": {},
   "source": [
    "##### 另外的 print 方式 `pprint` (pretty-print) "
   ]
  },
  {
   "cell_type": "code",
   "execution_count": 36,
   "metadata": {},
   "outputs": [],
   "source": [
    "# 從 Module 引入 function\n",
    "from pprint import pprint"
   ]
  },
  {
   "cell_type": "code",
   "execution_count": 33,
   "metadata": {},
   "outputs": [
    {
     "name": "stdout",
     "output_type": "stream",
     "text": [
      "['red', 'green', 'yellow', 'yellow']\n",
      "{'apple': {'amount': 10,\n",
      "           'color': ['red', 'green', 'yellow', 'yellow', 'yellow'],\n",
      "           'price': 7},\n",
      " 'orange': {'amount': 5, 'color': ['orange'], 'price': 12},\n",
      " 'tomato': {'amount': 15,\n",
      "            'color': ['red', 'green', 'green', 'green'],\n",
      "            'price': 8}}\n"
     ]
    }
   ],
   "source": [
    "'''\n",
    "新增顏色\n",
    "apple 有新的品種 顏色要有黃色\n",
    "tomato 有綠色\n",
    "'''\n",
    "print(fruit_dict[\"apple\"][\"color\"])\n",
    "fruit_dict[\"apple\"][\"color\"].append(\"yellow\")\n",
    "fruit_dict[\"tomato\"][\"color\"].append(\"green\")\n",
    "pprint(fruit_dict)"
   ]
  }
 ],
 "metadata": {
  "kernelspec": {
   "display_name": "Python 3",
   "language": "python",
   "name": "python3"
  },
  "language_info": {
   "codemirror_mode": {
    "name": "ipython",
    "version": 3
   },
   "file_extension": ".py",
   "mimetype": "text/x-python",
   "name": "python",
   "nbconvert_exporter": "python",
   "pygments_lexer": "ipython3",
   "version": "3.12.3"
  }
 },
 "nbformat": 4,
 "nbformat_minor": 2
}

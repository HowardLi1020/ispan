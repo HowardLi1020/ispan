{
 "cells": [
  {
   "cell_type": "markdown",
   "metadata": {},
   "source": [
    "##### slice 透過 [ : ] 進行分割\n",
    "`[n:m-1]`"
   ]
  },
  {
   "cell_type": "code",
   "execution_count": 3,
   "metadata": {},
   "outputs": [],
   "source": [
    "my_str = \"Hello,world!\""
   ]
  },
  {
   "cell_type": "code",
   "execution_count": 5,
   "metadata": {},
   "outputs": [
    {
     "name": "stdout",
     "output_type": "stream",
     "text": [
      "Hello\n"
     ]
    }
   ],
   "source": [
    "# 從頭取到 5（不包含第 5 個元素，實際為 0 ~ 4）\n",
    "print(my_str[0:5])\n"
   ]
  },
  {
   "cell_type": "code",
   "execution_count": 7,
   "metadata": {},
   "outputs": [
    {
     "name": "stdout",
     "output_type": "stream",
     "text": [
      "Hello\n"
     ]
    }
   ],
   "source": [
    "# 從頭取到 5（不包含第 5 個元素，實際為 0 ~ 4）\n",
    "print(my_str[:5])\n"
   ]
  },
  {
   "cell_type": "code",
   "execution_count": 10,
   "metadata": {},
   "outputs": [
    {
     "name": "stdout",
     "output_type": "stream",
     "text": [
      "world!\n"
     ]
    }
   ],
   "source": [
    "# 從 6 取到尾\n",
    "print(my_str[6:])\n"
   ]
  },
  {
   "cell_type": "code",
   "execution_count": 11,
   "metadata": {},
   "outputs": [
    {
     "name": "stdout",
     "output_type": "stream",
     "text": [
      "or\n"
     ]
    }
   ],
   "source": [
    "# 從 7 取到 9（不包含第 9 個元素，實際為 7 ~ 8）\n",
    "print(my_str[7:9])\n"
   ]
  },
  {
   "cell_type": "markdown",
   "metadata": {},
   "source": [
    "##### 使用負號"
   ]
  },
  {
   "cell_type": "code",
   "execution_count": 12,
   "metadata": {},
   "outputs": [
    {
     "name": "stdout",
     "output_type": "stream",
     "text": [
      "llo\n"
     ]
    }
   ],
   "source": [
    "# 從倒數第 10 取到倒數第 7（不包含倒數第 7 的元素）\n",
    "print(my_str[-10:-7])\n"
   ]
  },
  {
   "cell_type": "code",
   "execution_count": 14,
   "metadata": {},
   "outputs": [
    {
     "name": "stdout",
     "output_type": "stream",
     "text": [
      "world!\n"
     ]
    }
   ],
   "source": [
    "# 從倒數第6取到尾\n",
    "\n",
    "print(my_str[-6:])"
   ]
  },
  {
   "cell_type": "code",
   "execution_count": 15,
   "metadata": {},
   "outputs": [
    {
     "name": "stdout",
     "output_type": "stream",
     "text": [
      "Hello\n"
     ]
    }
   ],
   "source": [
    "# 從頭取到倒數第 7（不包含倒數第 7 的元素）\n",
    "print(my_str[:-7])\n"
   ]
  },
  {
   "cell_type": "code",
   "execution_count": 17,
   "metadata": {},
   "outputs": [
    {
     "name": "stdout",
     "output_type": "stream",
     "text": [
      "[3, 4, 5]\n"
     ]
    }
   ],
   "source": [
    "# 也可以使用在 list\n",
    "num_list = [1, 2, 3, 4, 5]\n",
    "print(num_list[2:])"
   ]
  },
  {
   "cell_type": "code",
   "execution_count": 1,
   "metadata": {},
   "outputs": [
    {
     "name": "stdout",
     "output_type": "stream",
     "text": [
      "['', 'home', 'student', 'python2-1.py']\n",
      "python2-1.py\n"
     ]
    }
   ],
   "source": [
    "# 取得檔案全名\n",
    "file_path = \"/home/student/python2-1.py\"\n",
    "file_path_list = file_path.split(\"/\")\n",
    "print(file_path_list)\n",
    "print(file_path_list[-1])\n"
   ]
  },
  {
   "cell_type": "markdown",
   "metadata": {},
   "source": [
    "---"
   ]
  },
  {
   "cell_type": "code",
   "execution_count": 9,
   "metadata": {},
   "outputs": [
    {
     "name": "stdout",
     "output_type": "stream",
     "text": [
      "['hello', 'world!', 'hello', 'john']\n",
      "Hello World! Hello John \n"
     ]
    }
   ],
   "source": [
    "# 實做練習 將每個單字改成大寫開頭\n",
    "string04 = \"hello world! hello john\"\n",
    "word = string04.split(\" \")\n",
    "print(word)\n",
    "upper_str = \"\"\n",
    "for i in word:\n",
    "    upper_str += i[0].upper() + i[1:] + ' '\n",
    "print(upper_str)"
   ]
  }
 ],
 "metadata": {
  "kernelspec": {
   "display_name": "Python 3",
   "language": "python",
   "name": "python3"
  },
  "language_info": {
   "codemirror_mode": {
    "name": "ipython",
    "version": 3
   },
   "file_extension": ".py",
   "mimetype": "text/x-python",
   "name": "python",
   "nbconvert_exporter": "python",
   "pygments_lexer": "ipython3",
   "version": "3.12.3"
  }
 },
 "nbformat": 4,
 "nbformat_minor": 2
}

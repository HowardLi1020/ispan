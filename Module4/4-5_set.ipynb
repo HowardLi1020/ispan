{
 "cells": [
  {
   "cell_type": "markdown",
   "metadata": {},
   "source": [
    "### set method"
   ]
  },
  {
   "cell_type": "code",
   "execution_count": 3,
   "metadata": {},
   "outputs": [
    {
     "name": "stdout",
     "output_type": "stream",
     "text": [
      "{'bigData', 'OJIP', 'AIOT'}\n"
     ]
    }
   ],
   "source": [
    "# Set 初始化\n",
    "class_set1 = {\"bigData\", \"AIOT\", \"OJIP\"}\n",
    "print(class_set1)\n"
   ]
  },
  {
   "cell_type": "code",
   "execution_count": 4,
   "metadata": {},
   "outputs": [
    {
     "name": "stdout",
     "output_type": "stream",
     "text": [
      "bigData\n",
      "OJIP\n",
      "AIOT\n"
     ]
    }
   ],
   "source": [
    "# 一筆筆讀資料 : for 迴圈\n",
    "for i in class_set1:\n",
    "    print(i)"
   ]
  },
  {
   "cell_type": "code",
   "execution_count": 5,
   "metadata": {},
   "outputs": [
    {
     "name": "stdout",
     "output_type": "stream",
     "text": [
      "3\n"
     ]
    }
   ],
   "source": [
    "# 總共有幾筆資料: len()\n",
    "print(len(class_set1))"
   ]
  },
  {
   "cell_type": "code",
   "execution_count": 6,
   "metadata": {},
   "outputs": [
    {
     "name": "stdout",
     "output_type": "stream",
     "text": [
      "{'bigData', 'Java', 'OJIP', 'AIOT'}\n"
     ]
    }
   ],
   "source": [
    "# 添加一筆資料: add()\n",
    "class_set1.add(\"Java\")\n",
    "print(class_set1)"
   ]
  },
  {
   "cell_type": "code",
   "execution_count": 7,
   "metadata": {},
   "outputs": [
    {
     "name": "stdout",
     "output_type": "stream",
     "text": [
      "{'bigData', 'Java', 'OJIP', 'AIOT'}\n"
     ]
    }
   ],
   "source": [
    "# 此時新增重複的資料，不會增加\n",
    "class_set1.add(\"Java\")\n",
    "print(class_set1)"
   ]
  },
  {
   "cell_type": "code",
   "execution_count": 8,
   "metadata": {},
   "outputs": [
    {
     "name": "stdout",
     "output_type": "stream",
     "text": [
      "{'Java', 'JS', 'OJIP', 'HTML', 'bigData', 'AIOT'}\n"
     ]
    }
   ],
   "source": [
    "# 添加多筆資料: update()\n",
    "class_set1.update({\"HTML\",\"JS\"})\n",
    "print(class_set1)\n"
   ]
  },
  {
   "cell_type": "code",
   "execution_count": 9,
   "metadata": {},
   "outputs": [
    {
     "name": "stdout",
     "output_type": "stream",
     "text": [
      "{'Java', 'OJIP', 'HTML', 'bigData', 'AIOT'}\n"
     ]
    }
   ],
   "source": [
    "# 刪除元素: discard() or remove()\n",
    "class_set1.discard(\"JS\")\n",
    "print(class_set1)\n",
    "\n"
   ]
  },
  {
   "cell_type": "code",
   "execution_count": 10,
   "metadata": {},
   "outputs": [
    {
     "name": "stdout",
     "output_type": "stream",
     "text": [
      "{'Java', 'OJIP', 'HTML', 'bigData', 'AIOT'}\n"
     ]
    }
   ],
   "source": [
    "class_set1.discard(\"JS\") #沒有該值不會報錯\n",
    "print(class_set1)"
   ]
  },
  {
   "cell_type": "code",
   "execution_count": 11,
   "metadata": {},
   "outputs": [
    {
     "ename": "KeyError",
     "evalue": "'JS'",
     "output_type": "error",
     "traceback": [
      "\u001b[1;31m---------------------------------------------------------------------------\u001b[0m",
      "\u001b[1;31mKeyError\u001b[0m                                  Traceback (most recent call last)",
      "Cell \u001b[1;32mIn[11], line 1\u001b[0m\n\u001b[1;32m----> 1\u001b[0m \u001b[43mclass_set1\u001b[49m\u001b[38;5;241;43m.\u001b[39;49m\u001b[43mremove\u001b[49m\u001b[43m(\u001b[49m\u001b[38;5;124;43m\"\u001b[39;49m\u001b[38;5;124;43mJS\u001b[39;49m\u001b[38;5;124;43m\"\u001b[39;49m\u001b[43m)\u001b[49m\u001b[38;5;66;03m#沒有該執會報錯\u001b[39;00m\n\u001b[0;32m      2\u001b[0m \u001b[38;5;28mprint\u001b[39m(class_set1)\n",
      "\u001b[1;31mKeyError\u001b[0m: 'JS'"
     ]
    }
   ],
   "source": [
    "class_set1.remove(\"JS\")#沒有該執會報錯\n",
    "print(class_set1)"
   ]
  },
  {
   "cell_type": "code",
   "execution_count": 12,
   "metadata": {},
   "outputs": [
    {
     "name": "stdout",
     "output_type": "stream",
     "text": [
      "{'bigData', 'Java', 'OJIP', 'AIOT'}\n"
     ]
    }
   ],
   "source": [
    "#一次刪除多個值\n",
    "class_set2 = class_set1 - {\"HTML\",\"AOIT\"}\n",
    "print(class_set2)"
   ]
  },
  {
   "cell_type": "code",
   "execution_count": 13,
   "metadata": {},
   "outputs": [
    {
     "name": "stdout",
     "output_type": "stream",
     "text": [
      "<class 'dict'>\n",
      "<class 'set'>\n"
     ]
    }
   ],
   "source": [
    "x = {}\n",
    "print(type(x))\n",
    "\n",
    "y = set()\n",
    "print(type(y))"
   ]
  }
 ],
 "metadata": {
  "kernelspec": {
   "display_name": "Python 3",
   "language": "python",
   "name": "python3"
  },
  "language_info": {
   "codemirror_mode": {
    "name": "ipython",
    "version": 3
   },
   "file_extension": ".py",
   "mimetype": "text/x-python",
   "name": "python",
   "nbconvert_exporter": "python",
   "pygments_lexer": "ipython3",
   "version": "3.12.3"
  }
 },
 "nbformat": 4,
 "nbformat_minor": 2
}

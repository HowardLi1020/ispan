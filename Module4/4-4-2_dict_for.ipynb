{
 "cells": [
  {
   "cell_type": "code",
   "execution_count": 8,
   "metadata": {},
   "outputs": [
    {
     "name": "stdout",
     "output_type": "stream",
     "text": [
      "{'apple': {'price': 100, 'quantity': 50, 'color': ['green', 'red']}, 'orange': {'price': 50, 'quantity': 30, 'color': ['orange']}}\n"
     ]
    }
   ],
   "source": [
    "fruit_dict = {    \n",
    "    'apple': {\n",
    "        'price': 100,\n",
    "        'quantity': 50,\n",
    "        'color': ['green', 'red']\n",
    "    },\n",
    "    'orange': {\n",
    "        'price': 50,\n",
    "        'quantity': 30,\n",
    "        'color': [\"orange\"] # 錯誤的寫法\n",
    "    }\n",
    "}\n",
    "print(fruit_dict)"
   ]
  },
  {
   "cell_type": "code",
   "execution_count": 2,
   "metadata": {},
   "outputs": [
    {
     "name": "stdout",
     "output_type": "stream",
     "text": [
      "apple\n",
      "orange\n"
     ]
    }
   ],
   "source": [
    "# 使用 for 迴圈讀取 dict 資料1 \n",
    "for i in fruit_dict:#只取得key\n",
    "    print(i)"
   ]
  },
  {
   "cell_type": "code",
   "execution_count": 4,
   "metadata": {},
   "outputs": [
    {
     "name": "stdout",
     "output_type": "stream",
     "text": [
      "{'price': 100, 'quantity': 50, 'color': ['greem', 'red']}\n",
      "{'price': 50, 'quantity': 30, 'color': 'orange'}\n"
     ]
    }
   ],
   "source": [
    "# 使用 for 迴圈讀取 dict 資料2\n",
    "for i in fruit_dict.values():#只取得value\n",
    "    print(i)"
   ]
  },
  {
   "cell_type": "code",
   "execution_count": 5,
   "metadata": {},
   "outputs": [
    {
     "name": "stdout",
     "output_type": "stream",
     "text": [
      "apple\n",
      "{'price': 100, 'quantity': 50, 'color': ['greem', 'red']}\n",
      "orange\n",
      "{'price': 50, 'quantity': 30, 'color': 'orange'}\n"
     ]
    }
   ],
   "source": [
    "# 使用 for 迴圈讀取 dict 資料3\n",
    "for key, value in fruit_dict.items():#取得key和value\n",
    "    print(key)\n",
    "    print(value)"
   ]
  },
  {
   "cell_type": "code",
   "execution_count": 6,
   "metadata": {},
   "outputs": [
    {
     "name": "stdout",
     "output_type": "stream",
     "text": [
      "150\n",
      "80\n"
     ]
    }
   ],
   "source": [
    "# 取得 dict 的 value\n",
    "total = 0\n",
    "quantity = 0\n",
    "for key, value in fruit_dict.items():\n",
    "    total += value[\"price\"]\n",
    "    quantity += value[\"quantity\"]\n",
    "print(total)\n",
    "print(quantity)\n"
   ]
  },
  {
   "cell_type": "code",
   "execution_count": 9,
   "metadata": {},
   "outputs": [
    {
     "name": "stdout",
     "output_type": "stream",
     "text": [
      "None\n",
      "{'price': 50, 'quantity': 30, 'color': ['orange']}\n"
     ]
    }
   ],
   "source": [
    "#dict另一個取value的方式 dict.get(<key>)\n",
    "fruit_dict = {    \n",
    "    'apple': {\n",
    "        'price': 100,\n",
    "        'quantity': 50,\n",
    "        'color': ['green', 'red']\n",
    "    },\n",
    "    'orange': {\n",
    "        'price': 50,\n",
    "        'quantity': 30,\n",
    "        'color': [\"orange\"] # 錯誤的寫法\n",
    "    }\n",
    "}\n",
    "print(fruit_dict.get(\"tomato\"))\n",
    "print(fruit_dict.get(\"orange\"))"
   ]
  },
  {
   "cell_type": "code",
   "execution_count": 12,
   "metadata": {},
   "outputs": [],
   "source": [
    "# 資料處理\n",
    "fruit_color_list = [\n",
    "    {'apple': 'red'}, \n",
    "    {'grape': 'purple'}, \n",
    "    {'kiwi': 'yellow'}, \n",
    "    {'apple': 'green'}, \n",
    "    {'kiwi': 'green'}, \n",
    "    {'grape': 'green'}]\n",
    "    \n"
   ]
  },
  {
   "cell_type": "code",
   "execution_count": 16,
   "metadata": {},
   "outputs": [
    {
     "name": "stdout",
     "output_type": "stream",
     "text": [
      "{'apple': ['red', 'green'], 'grape': ['purple', 'green'], 'kiwi': ['yellow', 'green']}\n"
     ]
    }
   ],
   "source": [
    "# 將資料整理成 {'apple': ['red', 'green'], 'grape': ['purple', 'green'], 'kiwi': ['yellow', 'green']}\n",
    "color_dict = {}\n",
    "for fruit_color_dict in fruit_color_list: #抓出list中每一個dict做迴圈\n",
    "    for key, value in fruit_color_dict.items(): #取dict中的key, value\n",
    "        if color_dict.get(key) == None: #當color_dict中沒有這個key(ex.apple)時\n",
    "            color_dict[key] = [value] #把value(ex.apple/kiwi)，丟給key\n",
    "        else:#如果已經有了這個key\n",
    "            color_dict[key].append(value)#就把相對應的value新增上去\n",
    "print(color_dict)\n"
   ]
  },
  {
   "cell_type": "markdown",
   "metadata": {},
   "source": [
    "##### `defaultdict(<type>)`"
   ]
  },
  {
   "cell_type": "code",
   "execution_count": 27,
   "metadata": {},
   "outputs": [
    {
     "name": "stdout",
     "output_type": "stream",
     "text": [
      "0\n",
      "defaultdict(<class 'int'>, {'apple': 0})\n"
     ]
    }
   ],
   "source": [
    "# 當訪問的鍵不存在時，可以自動創建鍵和預設值，而不是拋出KeyError。\n",
    "from collections import defaultdict\n",
    "\n",
    "# 以int型態的預設值 0 來初始化\n",
    "price_dict = defaultdict(int)\n",
    "\n",
    "print(price_dict[\"apple\"])\n",
    "print(price_dict)"
   ]
  },
  {
   "cell_type": "code",
   "execution_count": 22,
   "metadata": {},
   "outputs": [
    {
     "name": "stdout",
     "output_type": "stream",
     "text": [
      "defaultdict(<class 'list'>, {'apple': ['red', 'green'], 'grape': ['purple', 'green'], 'kiwi': ['yellow', 'green']})\n"
     ]
    }
   ],
   "source": [
    "from collections import defaultdict\n",
    "\n",
    "color_dict = defaultdict(list)\n",
    "\n",
    "for fruit_dict in fruit_color_list:\n",
    "    for fruit, color in fruit_dict.items():\n",
    "        color_dict[fruit].append(color)\n",
    "\n",
    "print(color_dict)"
   ]
  },
  {
   "cell_type": "code",
   "execution_count": 16,
   "metadata": {},
   "outputs": [
    {
     "name": "stdout",
     "output_type": "stream",
     "text": [
      "{'apple': {'price': 50, 'color': ['red', 'green']}, 'grape': {'price': 200, 'color': ['purple', 'green']}, 'kiwi': {'price': 30, 'color': ['yellow', 'green']}}\n"
     ]
    }
   ],
   "source": [
    "fruit_color_list = [\n",
    "    {'apple': 'red'}, \n",
    "    {'grape': 'purple'}, \n",
    "    {'kiwi': 'yellow'}, \n",
    "    {'apple': 'green'}, \n",
    "    {'kiwi': 'green'}, \n",
    "    {'grape': 'green'}]\n",
    "\n",
    "fruit_price_dict = {\n",
    "    'apple': 50,\n",
    "    'grape': 200,\n",
    "    'kiwi': 30\n",
    "}\n",
    "\n",
    "main_dict = {}\n",
    "\n",
    "# for key, value in fruit_price_dict.items():\n",
    "#     main_dict[key] = {'price': value}\n",
    "\n",
    "# 加入顏色信息\n",
    "for fruit_dict in fruit_color_list:\n",
    "    for fruit, color in fruit_dict.items():\n",
    "        # if main_dict[fruit].get('color') == None:\n",
    "        #     main_dict[fruit]['color'] = [color]\n",
    "        # else:\n",
    "        #     main_dict[fruit]['color'].append(color) \n",
    "\n",
    "        if fruit not in main_dict:\n",
    "            main_dict[fruit] = {'price': 0, 'color': [color]}\n",
    "        elif color not in main_dict[fruit]['color']:\n",
    "            main_dict[fruit]['color'].append(color)\n",
    "\n",
    "# 加入價格信息\n",
    "for fruit, price in fruit_price_dict.items():\n",
    "    if fruit in main_dict:\n",
    "        main_dict[fruit]['price'] = price\n",
    "\n",
    "# 結果\n",
    "print(main_dict)"
   ]
  },
  {
   "cell_type": "code",
   "execution_count": null,
   "metadata": {},
   "outputs": [],
   "source": [
    "main_dict = {}\n",
    "\n",
    "for key, value in fruit_price_dict.items():\n",
    "    main_dict[key] = {'price': value}\n",
    "\n",
    "# 加入顏色信息\n",
    "for fruit_dict in fruit_color_list:\n",
    "    for fruit, color in fruit_dict.items():\n",
    "        if main_dict[fruit].get('color') == None:\n",
    "            main_dict[fruit]['color'] = [color]\n",
    "        else:\n",
    "            main_dict[fruit]['color'].append(color) "
   ]
  },
  {
   "cell_type": "code",
   "execution_count": null,
   "metadata": {},
   "outputs": [
    {
     "name": "stdout",
     "output_type": "stream",
     "text": [
      "{'color': []}\n"
     ]
    }
   ],
   "source": [
    "my_defaultdict2 = defaultdict(lambda:{'color': []})  # 以int型態的預設值0來初始化\n",
    "print(my_defaultdict2[1])"
   ]
  },
  {
   "cell_type": "code",
   "execution_count": null,
   "metadata": {},
   "outputs": [],
   "source": [
    "x = [1, 2, 3, 4]\n",
    "y = [2, 3, 4]\n",
    "for i in x:\n",
    "    "
   ]
  }
 ],
 "metadata": {
  "kernelspec": {
   "display_name": "Python 3",
   "language": "python",
   "name": "python3"
  },
  "language_info": {
   "codemirror_mode": {
    "name": "ipython",
    "version": 3
   },
   "file_extension": ".py",
   "mimetype": "text/x-python",
   "name": "python",
   "nbconvert_exporter": "python",
   "pygments_lexer": "ipython3",
   "version": "3.12.3"
  }
 },
 "nbformat": 4,
 "nbformat_minor": 2
}

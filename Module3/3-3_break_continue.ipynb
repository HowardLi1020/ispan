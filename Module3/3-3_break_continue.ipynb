{
 "cells": [
  {
   "cell_type": "markdown",
   "metadata": {},
   "source": [
    "##### break"
   ]
  },
  {
   "cell_type": "code",
   "execution_count": 1,
   "metadata": {},
   "outputs": [
    {
     "name": "stdout",
     "output_type": "stream",
     "text": [
      "c, o, n, "
     ]
    }
   ],
   "source": [
    "'''\n",
    "當偵測到字母 t 時，就會強制結束迴圈\n",
    "'''\n",
    "for char in \"content\":\n",
    "    if char == \"t\":\n",
    "        break\n",
    "    print(char, end = \", \")\n"
   ]
  },
  {
   "cell_type": "markdown",
   "metadata": {},
   "source": [
    "##### continue"
   ]
  },
  {
   "cell_type": "code",
   "execution_count": 2,
   "metadata": {},
   "outputs": [
    {
     "name": "stdout",
     "output_type": "stream",
     "text": [
      "c, o, n, e, n, "
     ]
    }
   ],
   "source": [
    "\n",
    "'''\n",
    "當偵測到字母 t 時，\n",
    "會跳過本次迴圈剩下的程式碼 print(char)，\n",
    "但不會結束迴圈，仍然會進入下一圈繼續執行\n",
    "'''\n",
    "for char in \"content\":\n",
    "    if char == \"t\":\n",
    "        continue\n",
    "    print(char, end = \", \")\n"
   ]
  },
  {
   "cell_type": "markdown",
   "metadata": {},
   "source": [
    "### 小試身手\n",
    "計算 1 到 100 之間的和，如果值超過500就停止執行"
   ]
  },
  {
   "cell_type": "code",
   "execution_count": 8,
   "metadata": {},
   "outputs": [
    {
     "name": "stdout",
     "output_type": "stream",
     "text": [
      "528\n"
     ]
    }
   ],
   "source": [
    "total = 0\n",
    "num = 1\n",
    "while True:\n",
    "    total += num\n",
    "    if num >= 100:\n",
    "        break\n",
    "    if total > 500:\n",
    "        break\n",
    "    num += 1\n",
    "print(total)\n"
   ]
  },
  {
   "cell_type": "markdown",
   "metadata": {},
   "source": [
    "計算 1 到 100 之間的奇數之和，但要跳過所有被 5 整除的數"
   ]
  },
  {
   "cell_type": "code",
   "execution_count": 11,
   "metadata": {},
   "outputs": [
    {
     "name": "stdout",
     "output_type": "stream",
     "text": [
      "2000\n"
     ]
    }
   ],
   "source": [
    "total = 0\n",
    "for i in range(1, 101):\n",
    "    if i % 2 == 1:\n",
    "        if i % 5 == 0:\n",
    "            continue\n",
    "        total += i\n",
    "print(total)"
   ]
  },
  {
   "cell_type": "code",
   "execution_count": 98,
   "metadata": {},
   "outputs": [
    {
     "name": "stdout",
     "output_type": "stream",
     "text": [
      "* * * * \n",
      " * * * \n",
      "  * * \n",
      "   * \n"
     ]
    }
   ],
   "source": [
    "for i in range(4):\n",
    "    for k in range(i):\n",
    "        print(\" \", end = \"\")\n",
    "    for j in range(4-i):\n",
    "        print(\"* \", end = \"\")\n",
    "    print(\"\")\n",
    "    \n",
    "    "
   ]
  },
  {
   "cell_type": "markdown",
   "metadata": {},
   "source": []
  }
 ],
 "metadata": {
  "kernelspec": {
   "display_name": "Python 3",
   "language": "python",
   "name": "python3"
  },
  "language_info": {
   "codemirror_mode": {
    "name": "ipython",
    "version": 3
   },
   "file_extension": ".py",
   "mimetype": "text/x-python",
   "name": "python",
   "nbconvert_exporter": "python",
   "pygments_lexer": "ipython3",
   "version": "3.12.3"
  }
 },
 "nbformat": 4,
 "nbformat_minor": 2
}

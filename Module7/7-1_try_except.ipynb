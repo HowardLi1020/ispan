{
 "cells": [
  {
   "cell_type": "markdown",
   "metadata": {},
   "source": [
    "##### try...except..."
   ]
  },
  {
   "cell_type": "code",
   "execution_count": 9,
   "metadata": {},
   "outputs": [
    {
     "name": "stdout",
     "output_type": "stream",
     "text": [
      "name 'num' is not defined\n",
      "Do something\n"
     ]
    }
   ],
   "source": [
    "# 可以連續定義數個例外處理機制\n",
    "# 最符合的例外事件類別會先拋出\n",
    "#依照事件發生順序，先發生先觸發except\n",
    "try:\n",
    "    num_list = [1, 2, 3]\n",
    "\n",
    "    print(num)\n",
    "    print(num_list[5])\n",
    "    print(num_list[0])\n",
    "\n",
    "except IndexError:\n",
    "    print(f\"except內的num_list : {num_list[0]}\")\n",
    "\n",
    "except NameError as e:\n",
    "    print(e)\n",
    "    # print(\"沒有num\")\n",
    "\n",
    "except: #沒特別註明的事件要擺在最後面，像是if、elif、else\n",
    "    print(\"something wrong\")\n",
    "print(\"Do something\")"
   ]
  },
  {
   "cell_type": "code",
   "execution_count": 2,
   "metadata": {},
   "outputs": [
    {
     "name": "stdout",
     "output_type": "stream",
     "text": [
      "10\n",
      "Exception:name 'y' is not defined\n"
     ]
    }
   ],
   "source": [
    "# 多層例外處理:\n",
    "try:\n",
    "    num = 10\n",
    "    print(num)\n",
    "    try:\n",
    "        print(y)\n",
    "    except NameError as e:\n",
    "        print(f\"NmaeError:{e}\")\n",
    "\n",
    "except Exception as e:\n",
    "    print(f\"Exception:{e}\")\n"
   ]
  },
  {
   "cell_type": "markdown",
   "metadata": {},
   "source": [
    "##### try...except...else...finally"
   ]
  },
  {
   "cell_type": "code",
   "execution_count": 4,
   "metadata": {},
   "outputs": [
    {
     "name": "stdout",
     "output_type": "stream",
     "text": [
      "10\n",
      "5\n",
      "程式結束:10\n"
     ]
    }
   ],
   "source": [
    "# 如果沒有錯誤，就會執行 else 程式區塊\n",
    "# finally 程式區塊是無論有無錯誤，都會執行\n",
    "\n",
    "try:\n",
    "    z = 10\n",
    "    print(z)\n",
    "    \n",
    "    x = 5\n",
    "    print(x)\n",
    "\n",
    "except:\n",
    "    print(\"變數尚未宣告\")\n",
    "\n",
    "else:\n",
    "    x += 5\n",
    "\n",
    "finally:\n",
    "    print(f\"程式結束:{x}\")\n"
   ]
  }
 ],
 "metadata": {
  "kernelspec": {
   "display_name": "Python 3",
   "language": "python",
   "name": "python3"
  },
  "language_info": {
   "codemirror_mode": {
    "name": "ipython",
    "version": 3
   },
   "file_extension": ".py",
   "mimetype": "text/x-python",
   "name": "python",
   "nbconvert_exporter": "python",
   "pygments_lexer": "ipython3",
   "version": "3.12.3"
  }
 },
 "nbformat": 4,
 "nbformat_minor": 2
}
